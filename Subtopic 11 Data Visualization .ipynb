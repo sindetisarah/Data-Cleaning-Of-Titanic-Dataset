{
  "cells": [
    {
      "cell_type": "markdown",
      "metadata": {
        "id": "gExYlBRfsfUg"
      },
      "source": [
        "## What is Data Visualisation\n",
        "#### - It is an approach used to represent data for better understanding of relationships among different attributes.\n",
        "#### Advantages\n",
        "1. Enables easier presentation of complex data\n",
        "2. Enables the observation and exploration of relationship between data points\n",
        "3. Helps in communication findings to the various stakeholders\n",
        "4. Helps researchers to identify trends and patterns as evidence for the project's results\n",
        "\n",
        "### What is the good practice in data visualization\n",
        "1. Keep it as simple as possible for better understanding\n",
        "2. Always use labels, titles,legends and pointers for better communication of information\n",
        "3. Plots/graphs using a co-ordinate system are more pronounced\n",
        "4. Knowledge of suitable plot with respect to the data types brings more clarity to the information\n",
        "\n",
        "### Python libraries used for data visualization\n",
        "They are matplotlib, vispy, bokeh, seaborn, pygal, folium, plotly, cufflinks, and networkx.\n",
        "Matplotlib and seaborn are highly used.\n",
        "\n",
        "\n",
        "## Topics for today:\n",
        "Today, our class session will be a practical one.\n",
        "The following are the steps we will take for today:\n",
        "1. Import relevant libraries (pandas,matplotlib,seaborn)\n",
        "2. Perform data exploration (with visualisations)\n",
        "  - Identify correlations\n",
        "  - Identify trends\n",
        "  - Identify possibility of seasonality (changes of observations that occur over time)\n",
        "\n",
        "### Types of plots to consider today:\n",
        "1. Line chart\n",
        "2. Scatter plot\n",
        "3. Bar chart\n",
        "4. Histogram\n",
        "5. Heatmap\n",
        "6. Pie chart\n",
        "7. Countplot\n"
      ]
    },
    {
      "cell_type": "markdown",
      "metadata": {
        "id": "hDm6MNmD0-b4"
      },
      "source": [
        "### Lets Visualize\n",
        "\n",
        "Links: https://www.kaggle.com/datasets/zhijinzhai/loandata"
      ]
    },
    {
      "cell_type": "code",
      "execution_count": 4,
      "metadata": {
        "id": "ENJKUWO8snVX"
      },
      "outputs": [],
      "source": [
        "# Import necessary libraries\n",
        "import pandas as pd\n",
        "import matplotlib.pyplot as plt\n",
        "import seaborn as sns\n",
        "import numpy as np"
      ]
    },
    {
      "cell_type": "code",
      "execution_count": 5,
      "metadata": {
        "colab": {
          "base_uri": "https://localhost:8080/"
        },
        "id": "neEE_6zvFr4t",
        "outputId": "7fdc1fce-8c1d-41bd-fa2e-1259a1eb274c"
      },
      "outputs": [
        {
          "name": "stdout",
          "output_type": "stream",
          "text": [
            " example.ipynb\t jobs_in_data.csv  'Subtopic 11 Data Visualization .ipynb'\n"
          ]
        }
      ],
      "source": [
        "!ls"
      ]
    },
    {
      "cell_type": "code",
      "execution_count": 6,
      "metadata": {
        "id": "dQxL-NylFPMZ"
      },
      "outputs": [],
      "source": [
        "# read data\n",
        "data = pd.read_csv('jobs_in_data.csv')\n"
      ]
    },
    {
      "cell_type": "code",
      "execution_count": 7,
      "metadata": {
        "colab": {
          "base_uri": "https://localhost:8080/",
          "height": 363
        },
        "id": "hF0vXnexFotY",
        "outputId": "59002e5b-440c-47d0-e6ce-78b7e068322e"
      },
      "outputs": [
        {
          "data": {
            "text/html": [
              "<div>\n",
              "<style scoped>\n",
              "    .dataframe tbody tr th:only-of-type {\n",
              "        vertical-align: middle;\n",
              "    }\n",
              "\n",
              "    .dataframe tbody tr th {\n",
              "        vertical-align: top;\n",
              "    }\n",
              "\n",
              "    .dataframe thead th {\n",
              "        text-align: right;\n",
              "    }\n",
              "</style>\n",
              "<table border=\"1\" class=\"dataframe\">\n",
              "  <thead>\n",
              "    <tr style=\"text-align: right;\">\n",
              "      <th></th>\n",
              "      <th>work_year</th>\n",
              "      <th>job_title</th>\n",
              "      <th>job_category</th>\n",
              "      <th>salary_currency</th>\n",
              "      <th>salary</th>\n",
              "      <th>salary_in_usd</th>\n",
              "      <th>employee_residence</th>\n",
              "      <th>experience_level</th>\n",
              "      <th>employment_type</th>\n",
              "      <th>work_setting</th>\n",
              "      <th>company_location</th>\n",
              "      <th>company_size</th>\n",
              "    </tr>\n",
              "  </thead>\n",
              "  <tbody>\n",
              "    <tr>\n",
              "      <th>0</th>\n",
              "      <td>2023</td>\n",
              "      <td>Data DevOps Engineer</td>\n",
              "      <td>Data Engineering</td>\n",
              "      <td>EUR</td>\n",
              "      <td>88000</td>\n",
              "      <td>95012</td>\n",
              "      <td>Germany</td>\n",
              "      <td>Mid-level</td>\n",
              "      <td>Full-time</td>\n",
              "      <td>Hybrid</td>\n",
              "      <td>Germany</td>\n",
              "      <td>L</td>\n",
              "    </tr>\n",
              "    <tr>\n",
              "      <th>1</th>\n",
              "      <td>2023</td>\n",
              "      <td>Data Architect</td>\n",
              "      <td>Data Architecture and Modeling</td>\n",
              "      <td>USD</td>\n",
              "      <td>186000</td>\n",
              "      <td>186000</td>\n",
              "      <td>United States</td>\n",
              "      <td>Senior</td>\n",
              "      <td>Full-time</td>\n",
              "      <td>In-person</td>\n",
              "      <td>United States</td>\n",
              "      <td>M</td>\n",
              "    </tr>\n",
              "    <tr>\n",
              "      <th>2</th>\n",
              "      <td>2023</td>\n",
              "      <td>Data Architect</td>\n",
              "      <td>Data Architecture and Modeling</td>\n",
              "      <td>USD</td>\n",
              "      <td>81800</td>\n",
              "      <td>81800</td>\n",
              "      <td>United States</td>\n",
              "      <td>Senior</td>\n",
              "      <td>Full-time</td>\n",
              "      <td>In-person</td>\n",
              "      <td>United States</td>\n",
              "      <td>M</td>\n",
              "    </tr>\n",
              "    <tr>\n",
              "      <th>3</th>\n",
              "      <td>2023</td>\n",
              "      <td>Data Scientist</td>\n",
              "      <td>Data Science and Research</td>\n",
              "      <td>USD</td>\n",
              "      <td>212000</td>\n",
              "      <td>212000</td>\n",
              "      <td>United States</td>\n",
              "      <td>Senior</td>\n",
              "      <td>Full-time</td>\n",
              "      <td>In-person</td>\n",
              "      <td>United States</td>\n",
              "      <td>M</td>\n",
              "    </tr>\n",
              "    <tr>\n",
              "      <th>4</th>\n",
              "      <td>2023</td>\n",
              "      <td>Data Scientist</td>\n",
              "      <td>Data Science and Research</td>\n",
              "      <td>USD</td>\n",
              "      <td>93300</td>\n",
              "      <td>93300</td>\n",
              "      <td>United States</td>\n",
              "      <td>Senior</td>\n",
              "      <td>Full-time</td>\n",
              "      <td>In-person</td>\n",
              "      <td>United States</td>\n",
              "      <td>M</td>\n",
              "    </tr>\n",
              "    <tr>\n",
              "      <th>5</th>\n",
              "      <td>2023</td>\n",
              "      <td>Data Scientist</td>\n",
              "      <td>Data Science and Research</td>\n",
              "      <td>USD</td>\n",
              "      <td>130000</td>\n",
              "      <td>130000</td>\n",
              "      <td>United States</td>\n",
              "      <td>Senior</td>\n",
              "      <td>Full-time</td>\n",
              "      <td>Remote</td>\n",
              "      <td>United States</td>\n",
              "      <td>M</td>\n",
              "    </tr>\n",
              "    <tr>\n",
              "      <th>6</th>\n",
              "      <td>2023</td>\n",
              "      <td>Data Scientist</td>\n",
              "      <td>Data Science and Research</td>\n",
              "      <td>USD</td>\n",
              "      <td>100000</td>\n",
              "      <td>100000</td>\n",
              "      <td>United States</td>\n",
              "      <td>Senior</td>\n",
              "      <td>Full-time</td>\n",
              "      <td>Remote</td>\n",
              "      <td>United States</td>\n",
              "      <td>M</td>\n",
              "    </tr>\n",
              "    <tr>\n",
              "      <th>7</th>\n",
              "      <td>2023</td>\n",
              "      <td>Machine Learning Researcher</td>\n",
              "      <td>Machine Learning and AI</td>\n",
              "      <td>USD</td>\n",
              "      <td>224400</td>\n",
              "      <td>224400</td>\n",
              "      <td>United States</td>\n",
              "      <td>Mid-level</td>\n",
              "      <td>Full-time</td>\n",
              "      <td>In-person</td>\n",
              "      <td>United States</td>\n",
              "      <td>M</td>\n",
              "    </tr>\n",
              "    <tr>\n",
              "      <th>8</th>\n",
              "      <td>2023</td>\n",
              "      <td>Machine Learning Researcher</td>\n",
              "      <td>Machine Learning and AI</td>\n",
              "      <td>USD</td>\n",
              "      <td>138700</td>\n",
              "      <td>138700</td>\n",
              "      <td>United States</td>\n",
              "      <td>Mid-level</td>\n",
              "      <td>Full-time</td>\n",
              "      <td>In-person</td>\n",
              "      <td>United States</td>\n",
              "      <td>M</td>\n",
              "    </tr>\n",
              "    <tr>\n",
              "      <th>9</th>\n",
              "      <td>2023</td>\n",
              "      <td>Data Engineer</td>\n",
              "      <td>Data Engineering</td>\n",
              "      <td>USD</td>\n",
              "      <td>210000</td>\n",
              "      <td>210000</td>\n",
              "      <td>United States</td>\n",
              "      <td>Executive</td>\n",
              "      <td>Full-time</td>\n",
              "      <td>Remote</td>\n",
              "      <td>United States</td>\n",
              "      <td>M</td>\n",
              "    </tr>\n",
              "  </tbody>\n",
              "</table>\n",
              "</div>"
            ],
            "text/plain": [
              "   work_year                    job_title                    job_category  \\\n",
              "0       2023         Data DevOps Engineer                Data Engineering   \n",
              "1       2023               Data Architect  Data Architecture and Modeling   \n",
              "2       2023               Data Architect  Data Architecture and Modeling   \n",
              "3       2023               Data Scientist       Data Science and Research   \n",
              "4       2023               Data Scientist       Data Science and Research   \n",
              "5       2023               Data Scientist       Data Science and Research   \n",
              "6       2023               Data Scientist       Data Science and Research   \n",
              "7       2023  Machine Learning Researcher         Machine Learning and AI   \n",
              "8       2023  Machine Learning Researcher         Machine Learning and AI   \n",
              "9       2023                Data Engineer                Data Engineering   \n",
              "\n",
              "  salary_currency  salary  salary_in_usd employee_residence experience_level  \\\n",
              "0             EUR   88000          95012            Germany        Mid-level   \n",
              "1             USD  186000         186000      United States           Senior   \n",
              "2             USD   81800          81800      United States           Senior   \n",
              "3             USD  212000         212000      United States           Senior   \n",
              "4             USD   93300          93300      United States           Senior   \n",
              "5             USD  130000         130000      United States           Senior   \n",
              "6             USD  100000         100000      United States           Senior   \n",
              "7             USD  224400         224400      United States        Mid-level   \n",
              "8             USD  138700         138700      United States        Mid-level   \n",
              "9             USD  210000         210000      United States        Executive   \n",
              "\n",
              "  employment_type work_setting company_location company_size  \n",
              "0       Full-time       Hybrid          Germany            L  \n",
              "1       Full-time    In-person    United States            M  \n",
              "2       Full-time    In-person    United States            M  \n",
              "3       Full-time    In-person    United States            M  \n",
              "4       Full-time    In-person    United States            M  \n",
              "5       Full-time       Remote    United States            M  \n",
              "6       Full-time       Remote    United States            M  \n",
              "7       Full-time    In-person    United States            M  \n",
              "8       Full-time    In-person    United States            M  \n",
              "9       Full-time       Remote    United States            M  "
            ]
          },
          "execution_count": 7,
          "metadata": {},
          "output_type": "execute_result"
        }
      ],
      "source": [
        "# Get first 10 records\n",
        "top = data.head(10)\n",
        "top"
      ]
    },
    {
      "cell_type": "code",
      "execution_count": null,
      "metadata": {
        "colab": {
          "base_uri": "https://localhost:8080/"
        },
        "id": "AQ6jff25FzF-",
        "outputId": "4706b912-bd47-45cd-f1c6-c19687bcad77"
      },
      "outputs": [],
      "source": [
        "print('Show top 10 ==', top.shape, len(top))"
      ]
    },
    {
      "cell_type": "code",
      "execution_count": 8,
      "metadata": {
        "colab": {
          "base_uri": "https://localhost:8080/",
          "height": 398
        },
        "id": "XtdSmACaF-Fy",
        "outputId": "05318fff-413b-4884-dc25-45739816ae51"
      },
      "outputs": [
        {
          "data": {
            "text/html": [
              "<div>\n",
              "<style scoped>\n",
              "    .dataframe tbody tr th:only-of-type {\n",
              "        vertical-align: middle;\n",
              "    }\n",
              "\n",
              "    .dataframe tbody tr th {\n",
              "        vertical-align: top;\n",
              "    }\n",
              "\n",
              "    .dataframe thead th {\n",
              "        text-align: right;\n",
              "    }\n",
              "</style>\n",
              "<table border=\"1\" class=\"dataframe\">\n",
              "  <thead>\n",
              "    <tr style=\"text-align: right;\">\n",
              "      <th></th>\n",
              "      <th>work_year</th>\n",
              "      <th>job_title</th>\n",
              "      <th>job_category</th>\n",
              "      <th>salary_currency</th>\n",
              "      <th>salary</th>\n",
              "      <th>salary_in_usd</th>\n",
              "      <th>employee_residence</th>\n",
              "      <th>experience_level</th>\n",
              "      <th>employment_type</th>\n",
              "      <th>work_setting</th>\n",
              "      <th>company_location</th>\n",
              "      <th>company_size</th>\n",
              "    </tr>\n",
              "  </thead>\n",
              "  <tbody>\n",
              "    <tr>\n",
              "      <th>9345</th>\n",
              "      <td>2020</td>\n",
              "      <td>Machine Learning Engineer</td>\n",
              "      <td>Machine Learning and AI</td>\n",
              "      <td>EUR</td>\n",
              "      <td>40000</td>\n",
              "      <td>45618</td>\n",
              "      <td>Croatia</td>\n",
              "      <td>Senior</td>\n",
              "      <td>Full-time</td>\n",
              "      <td>Remote</td>\n",
              "      <td>Croatia</td>\n",
              "      <td>S</td>\n",
              "    </tr>\n",
              "    <tr>\n",
              "      <th>9346</th>\n",
              "      <td>2021</td>\n",
              "      <td>Director of Data Science</td>\n",
              "      <td>Data Science and Research</td>\n",
              "      <td>USD</td>\n",
              "      <td>168000</td>\n",
              "      <td>168000</td>\n",
              "      <td>Japan</td>\n",
              "      <td>Senior</td>\n",
              "      <td>Full-time</td>\n",
              "      <td>In-person</td>\n",
              "      <td>Japan</td>\n",
              "      <td>S</td>\n",
              "    </tr>\n",
              "    <tr>\n",
              "      <th>9347</th>\n",
              "      <td>2021</td>\n",
              "      <td>Data Scientist</td>\n",
              "      <td>Data Science and Research</td>\n",
              "      <td>SGD</td>\n",
              "      <td>160000</td>\n",
              "      <td>119059</td>\n",
              "      <td>Singapore</td>\n",
              "      <td>Mid-level</td>\n",
              "      <td>Full-time</td>\n",
              "      <td>Remote</td>\n",
              "      <td>Israel</td>\n",
              "      <td>M</td>\n",
              "    </tr>\n",
              "    <tr>\n",
              "      <th>9348</th>\n",
              "      <td>2021</td>\n",
              "      <td>Applied Machine Learning Scientist</td>\n",
              "      <td>Machine Learning and AI</td>\n",
              "      <td>USD</td>\n",
              "      <td>423000</td>\n",
              "      <td>423000</td>\n",
              "      <td>United States</td>\n",
              "      <td>Mid-level</td>\n",
              "      <td>Full-time</td>\n",
              "      <td>Hybrid</td>\n",
              "      <td>United States</td>\n",
              "      <td>L</td>\n",
              "    </tr>\n",
              "    <tr>\n",
              "      <th>9349</th>\n",
              "      <td>2021</td>\n",
              "      <td>Data Engineer</td>\n",
              "      <td>Data Engineering</td>\n",
              "      <td>EUR</td>\n",
              "      <td>24000</td>\n",
              "      <td>28369</td>\n",
              "      <td>Malta</td>\n",
              "      <td>Mid-level</td>\n",
              "      <td>Full-time</td>\n",
              "      <td>Hybrid</td>\n",
              "      <td>Malta</td>\n",
              "      <td>L</td>\n",
              "    </tr>\n",
              "    <tr>\n",
              "      <th>9350</th>\n",
              "      <td>2021</td>\n",
              "      <td>Data Specialist</td>\n",
              "      <td>Data Management and Strategy</td>\n",
              "      <td>USD</td>\n",
              "      <td>165000</td>\n",
              "      <td>165000</td>\n",
              "      <td>United States</td>\n",
              "      <td>Senior</td>\n",
              "      <td>Full-time</td>\n",
              "      <td>Remote</td>\n",
              "      <td>United States</td>\n",
              "      <td>L</td>\n",
              "    </tr>\n",
              "    <tr>\n",
              "      <th>9351</th>\n",
              "      <td>2020</td>\n",
              "      <td>Data Scientist</td>\n",
              "      <td>Data Science and Research</td>\n",
              "      <td>USD</td>\n",
              "      <td>412000</td>\n",
              "      <td>412000</td>\n",
              "      <td>United States</td>\n",
              "      <td>Senior</td>\n",
              "      <td>Full-time</td>\n",
              "      <td>Remote</td>\n",
              "      <td>United States</td>\n",
              "      <td>L</td>\n",
              "    </tr>\n",
              "    <tr>\n",
              "      <th>9352</th>\n",
              "      <td>2021</td>\n",
              "      <td>Principal Data Scientist</td>\n",
              "      <td>Data Science and Research</td>\n",
              "      <td>USD</td>\n",
              "      <td>151000</td>\n",
              "      <td>151000</td>\n",
              "      <td>United States</td>\n",
              "      <td>Mid-level</td>\n",
              "      <td>Full-time</td>\n",
              "      <td>Remote</td>\n",
              "      <td>United States</td>\n",
              "      <td>L</td>\n",
              "    </tr>\n",
              "    <tr>\n",
              "      <th>9353</th>\n",
              "      <td>2020</td>\n",
              "      <td>Data Scientist</td>\n",
              "      <td>Data Science and Research</td>\n",
              "      <td>USD</td>\n",
              "      <td>105000</td>\n",
              "      <td>105000</td>\n",
              "      <td>United States</td>\n",
              "      <td>Entry-level</td>\n",
              "      <td>Full-time</td>\n",
              "      <td>Remote</td>\n",
              "      <td>United States</td>\n",
              "      <td>S</td>\n",
              "    </tr>\n",
              "    <tr>\n",
              "      <th>9354</th>\n",
              "      <td>2020</td>\n",
              "      <td>Business Data Analyst</td>\n",
              "      <td>Data Analysis</td>\n",
              "      <td>USD</td>\n",
              "      <td>100000</td>\n",
              "      <td>100000</td>\n",
              "      <td>United States</td>\n",
              "      <td>Entry-level</td>\n",
              "      <td>Contract</td>\n",
              "      <td>Remote</td>\n",
              "      <td>United States</td>\n",
              "      <td>L</td>\n",
              "    </tr>\n",
              "  </tbody>\n",
              "</table>\n",
              "</div>"
            ],
            "text/plain": [
              "      work_year                           job_title  \\\n",
              "9345       2020           Machine Learning Engineer   \n",
              "9346       2021            Director of Data Science   \n",
              "9347       2021                      Data Scientist   \n",
              "9348       2021  Applied Machine Learning Scientist   \n",
              "9349       2021                       Data Engineer   \n",
              "9350       2021                     Data Specialist   \n",
              "9351       2020                      Data Scientist   \n",
              "9352       2021            Principal Data Scientist   \n",
              "9353       2020                      Data Scientist   \n",
              "9354       2020               Business Data Analyst   \n",
              "\n",
              "                      job_category salary_currency  salary  salary_in_usd  \\\n",
              "9345       Machine Learning and AI             EUR   40000          45618   \n",
              "9346     Data Science and Research             USD  168000         168000   \n",
              "9347     Data Science and Research             SGD  160000         119059   \n",
              "9348       Machine Learning and AI             USD  423000         423000   \n",
              "9349              Data Engineering             EUR   24000          28369   \n",
              "9350  Data Management and Strategy             USD  165000         165000   \n",
              "9351     Data Science and Research             USD  412000         412000   \n",
              "9352     Data Science and Research             USD  151000         151000   \n",
              "9353     Data Science and Research             USD  105000         105000   \n",
              "9354                 Data Analysis             USD  100000         100000   \n",
              "\n",
              "     employee_residence experience_level employment_type work_setting  \\\n",
              "9345            Croatia           Senior       Full-time       Remote   \n",
              "9346              Japan           Senior       Full-time    In-person   \n",
              "9347          Singapore        Mid-level       Full-time       Remote   \n",
              "9348      United States        Mid-level       Full-time       Hybrid   \n",
              "9349              Malta        Mid-level       Full-time       Hybrid   \n",
              "9350      United States           Senior       Full-time       Remote   \n",
              "9351      United States           Senior       Full-time       Remote   \n",
              "9352      United States        Mid-level       Full-time       Remote   \n",
              "9353      United States      Entry-level       Full-time       Remote   \n",
              "9354      United States      Entry-level        Contract       Remote   \n",
              "\n",
              "     company_location company_size  \n",
              "9345          Croatia            S  \n",
              "9346            Japan            S  \n",
              "9347           Israel            M  \n",
              "9348    United States            L  \n",
              "9349            Malta            L  \n",
              "9350    United States            L  \n",
              "9351    United States            L  \n",
              "9352    United States            L  \n",
              "9353    United States            S  \n",
              "9354    United States            L  "
            ]
          },
          "execution_count": 8,
          "metadata": {},
          "output_type": "execute_result"
        }
      ],
      "source": [
        "# show last 10 rows\n",
        "last = data.tail(10)\n",
        "last"
      ]
    },
    {
      "cell_type": "code",
      "execution_count": null,
      "metadata": {
        "colab": {
          "base_uri": "https://localhost:8080/"
        },
        "id": "pLS3COxGHr3N",
        "outputId": "468bfb6b-2eaf-4ab5-d1db-98eead45e77d"
      },
      "outputs": [],
      "source": [
        "print('Show last 10 ==', last.shape, len(last))"
      ]
    },
    {
      "cell_type": "code",
      "execution_count": 9,
      "metadata": {
        "colab": {
          "base_uri": "https://localhost:8080/"
        },
        "id": "e_fcFo91HyMy",
        "outputId": "fe091e95-69b9-4465-fe60-a6d8a4a8c2db"
      },
      "outputs": [
        {
          "data": {
            "text/plain": [
              "((9355, 12), 9355)"
            ]
          },
          "execution_count": 9,
          "metadata": {},
          "output_type": "execute_result"
        }
      ],
      "source": [
        "# Show the total number of entries\n",
        "data.shape, len(data)"
      ]
    },
    {
      "cell_type": "code",
      "execution_count": 10,
      "metadata": {
        "colab": {
          "base_uri": "https://localhost:8080/"
        },
        "id": "LDy0kP06IStG",
        "outputId": "c6ee7648-2b41-4807-8b10-2294f9151647"
      },
      "outputs": [
        {
          "name": "stdout",
          "output_type": "stream",
          "text": [
            "<class 'pandas.core.frame.DataFrame'>\n",
            "RangeIndex: 9355 entries, 0 to 9354\n",
            "Data columns (total 12 columns):\n",
            " #   Column              Non-Null Count  Dtype \n",
            "---  ------              --------------  ----- \n",
            " 0   work_year           9355 non-null   int64 \n",
            " 1   job_title           9355 non-null   object\n",
            " 2   job_category        9355 non-null   object\n",
            " 3   salary_currency     9355 non-null   object\n",
            " 4   salary              9355 non-null   int64 \n",
            " 5   salary_in_usd       9355 non-null   int64 \n",
            " 6   employee_residence  9355 non-null   object\n",
            " 7   experience_level    9355 non-null   object\n",
            " 8   employment_type     9355 non-null   object\n",
            " 9   work_setting        9355 non-null   object\n",
            " 10  company_location    9355 non-null   object\n",
            " 11  company_size        9355 non-null   object\n",
            "dtypes: int64(3), object(9)\n",
            "memory usage: 877.2+ KB\n"
          ]
        }
      ],
      "source": [
        "# check missing values\n",
        "data.info()"
      ]
    },
    {
      "cell_type": "code",
      "execution_count": null,
      "metadata": {
        "id": "4XaNbGuKIwJC"
      },
      "outputs": [],
      "source": [
        "# if there were null values, to drop them use:\n",
        "# data.dropna(inplace=True)"
      ]
    },
    {
      "cell_type": "code",
      "execution_count": 9,
      "metadata": {
        "colab": {
          "base_uri": "https://localhost:8080/",
          "height": 300
        },
        "id": "UMqLTOasJu26",
        "outputId": "69a890ec-b049-4602-db13-a89318f8f35a"
      },
      "outputs": [
        {
          "data": {
            "text/html": [
              "<div>\n",
              "<style scoped>\n",
              "    .dataframe tbody tr th:only-of-type {\n",
              "        vertical-align: middle;\n",
              "    }\n",
              "\n",
              "    .dataframe tbody tr th {\n",
              "        vertical-align: top;\n",
              "    }\n",
              "\n",
              "    .dataframe thead th {\n",
              "        text-align: right;\n",
              "    }\n",
              "</style>\n",
              "<table border=\"1\" class=\"dataframe\">\n",
              "  <thead>\n",
              "    <tr style=\"text-align: right;\">\n",
              "      <th></th>\n",
              "      <th>work_year</th>\n",
              "      <th>salary</th>\n",
              "      <th>salary_in_usd</th>\n",
              "    </tr>\n",
              "  </thead>\n",
              "  <tbody>\n",
              "    <tr>\n",
              "      <th>count</th>\n",
              "      <td>9355.000000</td>\n",
              "      <td>9355.000000</td>\n",
              "      <td>9355.000000</td>\n",
              "    </tr>\n",
              "    <tr>\n",
              "      <th>mean</th>\n",
              "      <td>2022.760449</td>\n",
              "      <td>149927.981293</td>\n",
              "      <td>150299.495564</td>\n",
              "    </tr>\n",
              "    <tr>\n",
              "      <th>std</th>\n",
              "      <td>0.519470</td>\n",
              "      <td>63608.835387</td>\n",
              "      <td>63177.372024</td>\n",
              "    </tr>\n",
              "    <tr>\n",
              "      <th>min</th>\n",
              "      <td>2020.000000</td>\n",
              "      <td>14000.000000</td>\n",
              "      <td>15000.000000</td>\n",
              "    </tr>\n",
              "    <tr>\n",
              "      <th>25%</th>\n",
              "      <td>2023.000000</td>\n",
              "      <td>105200.000000</td>\n",
              "      <td>105700.000000</td>\n",
              "    </tr>\n",
              "    <tr>\n",
              "      <th>50%</th>\n",
              "      <td>2023.000000</td>\n",
              "      <td>143860.000000</td>\n",
              "      <td>143000.000000</td>\n",
              "    </tr>\n",
              "    <tr>\n",
              "      <th>75%</th>\n",
              "      <td>2023.000000</td>\n",
              "      <td>187000.000000</td>\n",
              "      <td>186723.000000</td>\n",
              "    </tr>\n",
              "    <tr>\n",
              "      <th>max</th>\n",
              "      <td>2023.000000</td>\n",
              "      <td>450000.000000</td>\n",
              "      <td>450000.000000</td>\n",
              "    </tr>\n",
              "  </tbody>\n",
              "</table>\n",
              "</div>"
            ],
            "text/plain": [
              "         work_year         salary  salary_in_usd\n",
              "count  9355.000000    9355.000000    9355.000000\n",
              "mean   2022.760449  149927.981293  150299.495564\n",
              "std       0.519470   63608.835387   63177.372024\n",
              "min    2020.000000   14000.000000   15000.000000\n",
              "25%    2023.000000  105200.000000  105700.000000\n",
              "50%    2023.000000  143860.000000  143000.000000\n",
              "75%    2023.000000  187000.000000  186723.000000\n",
              "max    2023.000000  450000.000000  450000.000000"
            ]
          },
          "execution_count": 9,
          "metadata": {},
          "output_type": "execute_result"
        }
      ],
      "source": [
        "# explain the describe method\n",
        "# data summary\n",
        "data.describe()"
      ]
    },
    {
      "cell_type": "code",
      "execution_count": 12,
      "metadata": {
        "id": "_M7kndktJ0sB"
      },
      "outputs": [],
      "source": [
        "'''\n",
        "Create a pie chart showing the most common job titles in the dataset.\n",
        "Create a new dataframe by filtering the current one using the\n",
        "“Data Scientist” Job title.\n",
        "Save and export this dataframe as CSV.\n",
        "'''\n",
        "# Filter based on data scientist title\n",
        "#a. Use loc method\n",
        "jobtitle_loc = data.loc[data['job_title'] == 'Data Scientist',:]"
      ]
    },
    {
      "cell_type": "code",
      "execution_count": 13,
      "metadata": {},
      "outputs": [
        {
          "name": "stdout",
          "output_type": "stream",
          "text": [
            "      work_year       job_title               job_category salary_currency  \\\n",
            "3          2023  Data Scientist  Data Science and Research             USD   \n",
            "4          2023  Data Scientist  Data Science and Research             USD   \n",
            "5          2023  Data Scientist  Data Science and Research             USD   \n",
            "6          2023  Data Scientist  Data Science and Research             USD   \n",
            "13         2023  Data Scientist  Data Science and Research             GBP   \n",
            "...         ...             ...                        ...             ...   \n",
            "9342       2020  Data Scientist  Data Science and Research             USD   \n",
            "9343       2020  Data Scientist  Data Science and Research             USD   \n",
            "9347       2021  Data Scientist  Data Science and Research             SGD   \n",
            "9351       2020  Data Scientist  Data Science and Research             USD   \n",
            "9353       2020  Data Scientist  Data Science and Research             USD   \n",
            "\n",
            "      salary  salary_in_usd employee_residence experience_level  \\\n",
            "3     212000         212000      United States           Senior   \n",
            "4      93300          93300      United States           Senior   \n",
            "5     130000         130000      United States           Senior   \n",
            "6     100000         100000      United States           Senior   \n",
            "13     35000          43064     United Kingdom        Mid-level   \n",
            "...      ...            ...                ...              ...   \n",
            "9342  118000         118000      United States        Mid-level   \n",
            "9343  138350         138350      United States        Mid-level   \n",
            "9347  160000         119059          Singapore        Mid-level   \n",
            "9351  412000         412000      United States           Senior   \n",
            "9353  105000         105000      United States      Entry-level   \n",
            "\n",
            "     employment_type work_setting company_location company_size  \n",
            "3          Full-time    In-person    United States            M  \n",
            "4          Full-time    In-person    United States            M  \n",
            "5          Full-time       Remote    United States            M  \n",
            "6          Full-time       Remote    United States            M  \n",
            "13         Full-time    In-person   United Kingdom            M  \n",
            "...              ...          ...              ...          ...  \n",
            "9342       Full-time       Remote    United States            M  \n",
            "9343       Full-time       Remote    United States            M  \n",
            "9347       Full-time       Remote           Israel            M  \n",
            "9351       Full-time       Remote    United States            L  \n",
            "9353       Full-time       Remote    United States            S  \n",
            "\n",
            "[1989 rows x 12 columns]\n"
          ]
        }
      ],
      "source": [
        "print(jobtitle_loc)"
      ]
    },
    {
      "cell_type": "code",
      "execution_count": 14,
      "metadata": {
        "colab": {
          "base_uri": "https://localhost:8080/",
          "height": 144
        },
        "id": "-4hQiyRTK7SY",
        "outputId": "37021143-ef9e-463f-81da-490b0eca3f6b"
      },
      "outputs": [
        {
          "data": {
            "text/html": [
              "<div>\n",
              "<style scoped>\n",
              "    .dataframe tbody tr th:only-of-type {\n",
              "        vertical-align: middle;\n",
              "    }\n",
              "\n",
              "    .dataframe tbody tr th {\n",
              "        vertical-align: top;\n",
              "    }\n",
              "\n",
              "    .dataframe thead th {\n",
              "        text-align: right;\n",
              "    }\n",
              "</style>\n",
              "<table border=\"1\" class=\"dataframe\">\n",
              "  <thead>\n",
              "    <tr style=\"text-align: right;\">\n",
              "      <th></th>\n",
              "      <th>work_year</th>\n",
              "      <th>job_title</th>\n",
              "      <th>job_category</th>\n",
              "      <th>salary_currency</th>\n",
              "      <th>salary</th>\n",
              "      <th>salary_in_usd</th>\n",
              "      <th>employee_residence</th>\n",
              "      <th>experience_level</th>\n",
              "      <th>employment_type</th>\n",
              "      <th>work_setting</th>\n",
              "      <th>company_location</th>\n",
              "      <th>company_size</th>\n",
              "    </tr>\n",
              "  </thead>\n",
              "  <tbody>\n",
              "    <tr>\n",
              "      <th>3</th>\n",
              "      <td>2023</td>\n",
              "      <td>Data Scientist</td>\n",
              "      <td>Data Science and Research</td>\n",
              "      <td>USD</td>\n",
              "      <td>212000</td>\n",
              "      <td>212000</td>\n",
              "      <td>United States</td>\n",
              "      <td>Senior</td>\n",
              "      <td>Full-time</td>\n",
              "      <td>In-person</td>\n",
              "      <td>United States</td>\n",
              "      <td>M</td>\n",
              "    </tr>\n",
              "    <tr>\n",
              "      <th>4</th>\n",
              "      <td>2023</td>\n",
              "      <td>Data Scientist</td>\n",
              "      <td>Data Science and Research</td>\n",
              "      <td>USD</td>\n",
              "      <td>93300</td>\n",
              "      <td>93300</td>\n",
              "      <td>United States</td>\n",
              "      <td>Senior</td>\n",
              "      <td>Full-time</td>\n",
              "      <td>In-person</td>\n",
              "      <td>United States</td>\n",
              "      <td>M</td>\n",
              "    </tr>\n",
              "    <tr>\n",
              "      <th>5</th>\n",
              "      <td>2023</td>\n",
              "      <td>Data Scientist</td>\n",
              "      <td>Data Science and Research</td>\n",
              "      <td>USD</td>\n",
              "      <td>130000</td>\n",
              "      <td>130000</td>\n",
              "      <td>United States</td>\n",
              "      <td>Senior</td>\n",
              "      <td>Full-time</td>\n",
              "      <td>Remote</td>\n",
              "      <td>United States</td>\n",
              "      <td>M</td>\n",
              "    </tr>\n",
              "    <tr>\n",
              "      <th>6</th>\n",
              "      <td>2023</td>\n",
              "      <td>Data Scientist</td>\n",
              "      <td>Data Science and Research</td>\n",
              "      <td>USD</td>\n",
              "      <td>100000</td>\n",
              "      <td>100000</td>\n",
              "      <td>United States</td>\n",
              "      <td>Senior</td>\n",
              "      <td>Full-time</td>\n",
              "      <td>Remote</td>\n",
              "      <td>United States</td>\n",
              "      <td>M</td>\n",
              "    </tr>\n",
              "    <tr>\n",
              "      <th>13</th>\n",
              "      <td>2023</td>\n",
              "      <td>Data Scientist</td>\n",
              "      <td>Data Science and Research</td>\n",
              "      <td>GBP</td>\n",
              "      <td>35000</td>\n",
              "      <td>43064</td>\n",
              "      <td>United Kingdom</td>\n",
              "      <td>Mid-level</td>\n",
              "      <td>Full-time</td>\n",
              "      <td>In-person</td>\n",
              "      <td>United Kingdom</td>\n",
              "      <td>M</td>\n",
              "    </tr>\n",
              "    <tr>\n",
              "      <th>14</th>\n",
              "      <td>2023</td>\n",
              "      <td>Data Scientist</td>\n",
              "      <td>Data Science and Research</td>\n",
              "      <td>GBP</td>\n",
              "      <td>30000</td>\n",
              "      <td>36912</td>\n",
              "      <td>United Kingdom</td>\n",
              "      <td>Mid-level</td>\n",
              "      <td>Full-time</td>\n",
              "      <td>In-person</td>\n",
              "      <td>United Kingdom</td>\n",
              "      <td>M</td>\n",
              "    </tr>\n",
              "    <tr>\n",
              "      <th>17</th>\n",
              "      <td>2023</td>\n",
              "      <td>Data Scientist</td>\n",
              "      <td>Data Science and Research</td>\n",
              "      <td>USD</td>\n",
              "      <td>300000</td>\n",
              "      <td>300000</td>\n",
              "      <td>United States</td>\n",
              "      <td>Senior</td>\n",
              "      <td>Full-time</td>\n",
              "      <td>In-person</td>\n",
              "      <td>United States</td>\n",
              "      <td>M</td>\n",
              "    </tr>\n",
              "    <tr>\n",
              "      <th>18</th>\n",
              "      <td>2023</td>\n",
              "      <td>Data Scientist</td>\n",
              "      <td>Data Science and Research</td>\n",
              "      <td>USD</td>\n",
              "      <td>234000</td>\n",
              "      <td>234000</td>\n",
              "      <td>United States</td>\n",
              "      <td>Senior</td>\n",
              "      <td>Full-time</td>\n",
              "      <td>In-person</td>\n",
              "      <td>United States</td>\n",
              "      <td>M</td>\n",
              "    </tr>\n",
              "    <tr>\n",
              "      <th>47</th>\n",
              "      <td>2023</td>\n",
              "      <td>Data Scientist</td>\n",
              "      <td>Data Science and Research</td>\n",
              "      <td>USD</td>\n",
              "      <td>223400</td>\n",
              "      <td>223400</td>\n",
              "      <td>United States</td>\n",
              "      <td>Senior</td>\n",
              "      <td>Full-time</td>\n",
              "      <td>Remote</td>\n",
              "      <td>United States</td>\n",
              "      <td>M</td>\n",
              "    </tr>\n",
              "    <tr>\n",
              "      <th>48</th>\n",
              "      <td>2023</td>\n",
              "      <td>Data Scientist</td>\n",
              "      <td>Data Science and Research</td>\n",
              "      <td>USD</td>\n",
              "      <td>186200</td>\n",
              "      <td>186200</td>\n",
              "      <td>United States</td>\n",
              "      <td>Senior</td>\n",
              "      <td>Full-time</td>\n",
              "      <td>Remote</td>\n",
              "      <td>United States</td>\n",
              "      <td>M</td>\n",
              "    </tr>\n",
              "  </tbody>\n",
              "</table>\n",
              "</div>"
            ],
            "text/plain": [
              "    work_year       job_title               job_category salary_currency  \\\n",
              "3        2023  Data Scientist  Data Science and Research             USD   \n",
              "4        2023  Data Scientist  Data Science and Research             USD   \n",
              "5        2023  Data Scientist  Data Science and Research             USD   \n",
              "6        2023  Data Scientist  Data Science and Research             USD   \n",
              "13       2023  Data Scientist  Data Science and Research             GBP   \n",
              "14       2023  Data Scientist  Data Science and Research             GBP   \n",
              "17       2023  Data Scientist  Data Science and Research             USD   \n",
              "18       2023  Data Scientist  Data Science and Research             USD   \n",
              "47       2023  Data Scientist  Data Science and Research             USD   \n",
              "48       2023  Data Scientist  Data Science and Research             USD   \n",
              "\n",
              "    salary  salary_in_usd employee_residence experience_level employment_type  \\\n",
              "3   212000         212000      United States           Senior       Full-time   \n",
              "4    93300          93300      United States           Senior       Full-time   \n",
              "5   130000         130000      United States           Senior       Full-time   \n",
              "6   100000         100000      United States           Senior       Full-time   \n",
              "13   35000          43064     United Kingdom        Mid-level       Full-time   \n",
              "14   30000          36912     United Kingdom        Mid-level       Full-time   \n",
              "17  300000         300000      United States           Senior       Full-time   \n",
              "18  234000         234000      United States           Senior       Full-time   \n",
              "47  223400         223400      United States           Senior       Full-time   \n",
              "48  186200         186200      United States           Senior       Full-time   \n",
              "\n",
              "   work_setting company_location company_size  \n",
              "3     In-person    United States            M  \n",
              "4     In-person    United States            M  \n",
              "5        Remote    United States            M  \n",
              "6        Remote    United States            M  \n",
              "13    In-person   United Kingdom            M  \n",
              "14    In-person   United Kingdom            M  \n",
              "17    In-person    United States            M  \n",
              "18    In-person    United States            M  \n",
              "47       Remote    United States            M  \n",
              "48       Remote    United States            M  "
            ]
          },
          "execution_count": 14,
          "metadata": {},
          "output_type": "execute_result"
        }
      ],
      "source": [
        "jobtitle_loc.head(10)"
      ]
    },
    {
      "cell_type": "code",
      "execution_count": 14,
      "metadata": {
        "colab": {
          "base_uri": "https://localhost:8080/",
          "height": 144
        },
        "id": "M2OjcEI9LwUH",
        "outputId": "971d572c-56fa-407a-e6f0-0920940f5d80"
      },
      "outputs": [
        {
          "data": {
            "text/html": [
              "<div>\n",
              "<style scoped>\n",
              "    .dataframe tbody tr th:only-of-type {\n",
              "        vertical-align: middle;\n",
              "    }\n",
              "\n",
              "    .dataframe tbody tr th {\n",
              "        vertical-align: top;\n",
              "    }\n",
              "\n",
              "    .dataframe thead th {\n",
              "        text-align: right;\n",
              "    }\n",
              "</style>\n",
              "<table border=\"1\" class=\"dataframe\">\n",
              "  <thead>\n",
              "    <tr style=\"text-align: right;\">\n",
              "      <th></th>\n",
              "      <th>work_year</th>\n",
              "      <th>job_title</th>\n",
              "      <th>job_category</th>\n",
              "      <th>salary_currency</th>\n",
              "      <th>salary</th>\n",
              "      <th>salary_in_usd</th>\n",
              "      <th>employee_residence</th>\n",
              "      <th>experience_level</th>\n",
              "      <th>employment_type</th>\n",
              "      <th>work_setting</th>\n",
              "      <th>company_location</th>\n",
              "      <th>company_size</th>\n",
              "    </tr>\n",
              "  </thead>\n",
              "  <tbody>\n",
              "    <tr>\n",
              "      <th>3</th>\n",
              "      <td>2023</td>\n",
              "      <td>Data Scientist</td>\n",
              "      <td>Data Science and Research</td>\n",
              "      <td>USD</td>\n",
              "      <td>212000</td>\n",
              "      <td>212000</td>\n",
              "      <td>United States</td>\n",
              "      <td>Senior</td>\n",
              "      <td>Full-time</td>\n",
              "      <td>In-person</td>\n",
              "      <td>United States</td>\n",
              "      <td>M</td>\n",
              "    </tr>\n",
              "    <tr>\n",
              "      <th>4</th>\n",
              "      <td>2023</td>\n",
              "      <td>Data Scientist</td>\n",
              "      <td>Data Science and Research</td>\n",
              "      <td>USD</td>\n",
              "      <td>93300</td>\n",
              "      <td>93300</td>\n",
              "      <td>United States</td>\n",
              "      <td>Senior</td>\n",
              "      <td>Full-time</td>\n",
              "      <td>In-person</td>\n",
              "      <td>United States</td>\n",
              "      <td>M</td>\n",
              "    </tr>\n",
              "    <tr>\n",
              "      <th>5</th>\n",
              "      <td>2023</td>\n",
              "      <td>Data Scientist</td>\n",
              "      <td>Data Science and Research</td>\n",
              "      <td>USD</td>\n",
              "      <td>130000</td>\n",
              "      <td>130000</td>\n",
              "      <td>United States</td>\n",
              "      <td>Senior</td>\n",
              "      <td>Full-time</td>\n",
              "      <td>Remote</td>\n",
              "      <td>United States</td>\n",
              "      <td>M</td>\n",
              "    </tr>\n",
              "  </tbody>\n",
              "</table>\n",
              "</div>"
            ],
            "text/plain": [
              "   work_year       job_title               job_category salary_currency  \\\n",
              "3       2023  Data Scientist  Data Science and Research             USD   \n",
              "4       2023  Data Scientist  Data Science and Research             USD   \n",
              "5       2023  Data Scientist  Data Science and Research             USD   \n",
              "\n",
              "   salary  salary_in_usd employee_residence experience_level employment_type  \\\n",
              "3  212000         212000      United States           Senior       Full-time   \n",
              "4   93300          93300      United States           Senior       Full-time   \n",
              "5  130000         130000      United States           Senior       Full-time   \n",
              "\n",
              "  work_setting company_location company_size  \n",
              "3    In-person    United States            M  \n",
              "4    In-person    United States            M  \n",
              "5       Remote    United States            M  "
            ]
          },
          "execution_count": 14,
          "metadata": {},
          "output_type": "execute_result"
        }
      ],
      "source": [
        "#b. filter strategy condition\n",
        "jobtitle_filter = data[data['job_title'] == 'Data Scientist']\n",
        "jobtitle_filter.head(3)"
      ]
    },
    {
      "cell_type": "code",
      "execution_count": 15,
      "metadata": {
        "colab": {
          "base_uri": "https://localhost:8080/",
          "height": 757
        },
        "id": "wI9sefLxMEWp",
        "outputId": "b9193139-c1e7-4f7e-bbbf-d442c586606f"
      },
      "outputs": [
        {
          "ename": "ValueError",
          "evalue": "could not convert string to float: 'Data DevOps Engineer'",
          "output_type": "error",
          "traceback": [
            "\u001b[0;31m---------------------------------------------------------------------------\u001b[0m",
            "\u001b[0;31mValueError\u001b[0m                                Traceback (most recent call last)",
            "Cell \u001b[0;32mIn[15], line 3\u001b[0m\n\u001b[1;32m      1\u001b[0m \u001b[38;5;66;03m# pie chart with job title\u001b[39;00m\n\u001b[0;32m----> 3\u001b[0m \u001b[43mplt\u001b[49m\u001b[38;5;241;43m.\u001b[39;49m\u001b[43mpie\u001b[49m\u001b[43m(\u001b[49m\u001b[43mdata\u001b[49m\u001b[38;5;241;43m.\u001b[39;49m\u001b[43mjob_title\u001b[49m\u001b[38;5;241;43m.\u001b[39;49m\u001b[43mtolist\u001b[49m\u001b[43m(\u001b[49m\u001b[43m)\u001b[49m\u001b[43m)\u001b[49m\n",
            "File \u001b[0;32m~/.local/lib/python3.10/site-packages/matplotlib/pyplot.py:3558\u001b[0m, in \u001b[0;36mpie\u001b[0;34m(x, explode, labels, colors, autopct, pctdistance, shadow, labeldistance, startangle, radius, counterclock, wedgeprops, textprops, center, frame, rotatelabels, normalize, hatch, data)\u001b[0m\n\u001b[1;32m   3535\u001b[0m \u001b[38;5;129m@_copy_docstring_and_deprecators\u001b[39m(Axes\u001b[38;5;241m.\u001b[39mpie)\n\u001b[1;32m   3536\u001b[0m \u001b[38;5;28;01mdef\u001b[39;00m \u001b[38;5;21mpie\u001b[39m(\n\u001b[1;32m   3537\u001b[0m     x: ArrayLike,\n\u001b[0;32m   (...)\u001b[0m\n\u001b[1;32m   3556\u001b[0m     data\u001b[38;5;241m=\u001b[39m\u001b[38;5;28;01mNone\u001b[39;00m,\n\u001b[1;32m   3557\u001b[0m ) \u001b[38;5;241m-\u001b[39m\u001b[38;5;241m>\u001b[39m \u001b[38;5;28mtuple\u001b[39m[\u001b[38;5;28mlist\u001b[39m[Wedge], \u001b[38;5;28mlist\u001b[39m[Text]] \u001b[38;5;241m|\u001b[39m \u001b[38;5;28mtuple\u001b[39m[\u001b[38;5;28mlist\u001b[39m[Wedge], \u001b[38;5;28mlist\u001b[39m[Text], \u001b[38;5;28mlist\u001b[39m[Text]]:\n\u001b[0;32m-> 3558\u001b[0m     \u001b[38;5;28;01mreturn\u001b[39;00m \u001b[43mgca\u001b[49m\u001b[43m(\u001b[49m\u001b[43m)\u001b[49m\u001b[38;5;241;43m.\u001b[39;49m\u001b[43mpie\u001b[49m\u001b[43m(\u001b[49m\n\u001b[1;32m   3559\u001b[0m \u001b[43m        \u001b[49m\u001b[43mx\u001b[49m\u001b[43m,\u001b[49m\n\u001b[1;32m   3560\u001b[0m \u001b[43m        \u001b[49m\u001b[43mexplode\u001b[49m\u001b[38;5;241;43m=\u001b[39;49m\u001b[43mexplode\u001b[49m\u001b[43m,\u001b[49m\n\u001b[1;32m   3561\u001b[0m \u001b[43m        \u001b[49m\u001b[43mlabels\u001b[49m\u001b[38;5;241;43m=\u001b[39;49m\u001b[43mlabels\u001b[49m\u001b[43m,\u001b[49m\n\u001b[1;32m   3562\u001b[0m \u001b[43m        \u001b[49m\u001b[43mcolors\u001b[49m\u001b[38;5;241;43m=\u001b[39;49m\u001b[43mcolors\u001b[49m\u001b[43m,\u001b[49m\n\u001b[1;32m   3563\u001b[0m \u001b[43m        \u001b[49m\u001b[43mautopct\u001b[49m\u001b[38;5;241;43m=\u001b[39;49m\u001b[43mautopct\u001b[49m\u001b[43m,\u001b[49m\n\u001b[1;32m   3564\u001b[0m \u001b[43m        \u001b[49m\u001b[43mpctdistance\u001b[49m\u001b[38;5;241;43m=\u001b[39;49m\u001b[43mpctdistance\u001b[49m\u001b[43m,\u001b[49m\n\u001b[1;32m   3565\u001b[0m \u001b[43m        \u001b[49m\u001b[43mshadow\u001b[49m\u001b[38;5;241;43m=\u001b[39;49m\u001b[43mshadow\u001b[49m\u001b[43m,\u001b[49m\n\u001b[1;32m   3566\u001b[0m \u001b[43m        \u001b[49m\u001b[43mlabeldistance\u001b[49m\u001b[38;5;241;43m=\u001b[39;49m\u001b[43mlabeldistance\u001b[49m\u001b[43m,\u001b[49m\n\u001b[1;32m   3567\u001b[0m \u001b[43m        \u001b[49m\u001b[43mstartangle\u001b[49m\u001b[38;5;241;43m=\u001b[39;49m\u001b[43mstartangle\u001b[49m\u001b[43m,\u001b[49m\n\u001b[1;32m   3568\u001b[0m \u001b[43m        \u001b[49m\u001b[43mradius\u001b[49m\u001b[38;5;241;43m=\u001b[39;49m\u001b[43mradius\u001b[49m\u001b[43m,\u001b[49m\n\u001b[1;32m   3569\u001b[0m \u001b[43m        \u001b[49m\u001b[43mcounterclock\u001b[49m\u001b[38;5;241;43m=\u001b[39;49m\u001b[43mcounterclock\u001b[49m\u001b[43m,\u001b[49m\n\u001b[1;32m   3570\u001b[0m \u001b[43m        \u001b[49m\u001b[43mwedgeprops\u001b[49m\u001b[38;5;241;43m=\u001b[39;49m\u001b[43mwedgeprops\u001b[49m\u001b[43m,\u001b[49m\n\u001b[1;32m   3571\u001b[0m \u001b[43m        \u001b[49m\u001b[43mtextprops\u001b[49m\u001b[38;5;241;43m=\u001b[39;49m\u001b[43mtextprops\u001b[49m\u001b[43m,\u001b[49m\n\u001b[1;32m   3572\u001b[0m \u001b[43m        \u001b[49m\u001b[43mcenter\u001b[49m\u001b[38;5;241;43m=\u001b[39;49m\u001b[43mcenter\u001b[49m\u001b[43m,\u001b[49m\n\u001b[1;32m   3573\u001b[0m \u001b[43m        \u001b[49m\u001b[43mframe\u001b[49m\u001b[38;5;241;43m=\u001b[39;49m\u001b[43mframe\u001b[49m\u001b[43m,\u001b[49m\n\u001b[1;32m   3574\u001b[0m \u001b[43m        \u001b[49m\u001b[43mrotatelabels\u001b[49m\u001b[38;5;241;43m=\u001b[39;49m\u001b[43mrotatelabels\u001b[49m\u001b[43m,\u001b[49m\n\u001b[1;32m   3575\u001b[0m \u001b[43m        \u001b[49m\u001b[43mnormalize\u001b[49m\u001b[38;5;241;43m=\u001b[39;49m\u001b[43mnormalize\u001b[49m\u001b[43m,\u001b[49m\n\u001b[1;32m   3576\u001b[0m \u001b[43m        \u001b[49m\u001b[43mhatch\u001b[49m\u001b[38;5;241;43m=\u001b[39;49m\u001b[43mhatch\u001b[49m\u001b[43m,\u001b[49m\n\u001b[1;32m   3577\u001b[0m \u001b[43m        \u001b[49m\u001b[38;5;241;43m*\u001b[39;49m\u001b[38;5;241;43m*\u001b[39;49m\u001b[43m(\u001b[49m\u001b[43m{\u001b[49m\u001b[38;5;124;43m\"\u001b[39;49m\u001b[38;5;124;43mdata\u001b[39;49m\u001b[38;5;124;43m\"\u001b[39;49m\u001b[43m:\u001b[49m\u001b[43m \u001b[49m\u001b[43mdata\u001b[49m\u001b[43m}\u001b[49m\u001b[43m \u001b[49m\u001b[38;5;28;43;01mif\u001b[39;49;00m\u001b[43m \u001b[49m\u001b[43mdata\u001b[49m\u001b[43m \u001b[49m\u001b[38;5;129;43;01mis\u001b[39;49;00m\u001b[43m \u001b[49m\u001b[38;5;129;43;01mnot\u001b[39;49;00m\u001b[43m \u001b[49m\u001b[38;5;28;43;01mNone\u001b[39;49;00m\u001b[43m \u001b[49m\u001b[38;5;28;43;01melse\u001b[39;49;00m\u001b[43m \u001b[49m\u001b[43m{\u001b[49m\u001b[43m}\u001b[49m\u001b[43m)\u001b[49m\u001b[43m,\u001b[49m\n\u001b[1;32m   3578\u001b[0m \u001b[43m    \u001b[49m\u001b[43m)\u001b[49m\n",
            "File \u001b[0;32m~/.local/lib/python3.10/site-packages/matplotlib/__init__.py:1465\u001b[0m, in \u001b[0;36m_preprocess_data.<locals>.inner\u001b[0;34m(ax, data, *args, **kwargs)\u001b[0m\n\u001b[1;32m   1462\u001b[0m \u001b[38;5;129m@functools\u001b[39m\u001b[38;5;241m.\u001b[39mwraps(func)\n\u001b[1;32m   1463\u001b[0m \u001b[38;5;28;01mdef\u001b[39;00m \u001b[38;5;21minner\u001b[39m(ax, \u001b[38;5;241m*\u001b[39margs, data\u001b[38;5;241m=\u001b[39m\u001b[38;5;28;01mNone\u001b[39;00m, \u001b[38;5;241m*\u001b[39m\u001b[38;5;241m*\u001b[39mkwargs):\n\u001b[1;32m   1464\u001b[0m     \u001b[38;5;28;01mif\u001b[39;00m data \u001b[38;5;129;01mis\u001b[39;00m \u001b[38;5;28;01mNone\u001b[39;00m:\n\u001b[0;32m-> 1465\u001b[0m         \u001b[38;5;28;01mreturn\u001b[39;00m \u001b[43mfunc\u001b[49m\u001b[43m(\u001b[49m\u001b[43max\u001b[49m\u001b[43m,\u001b[49m\u001b[43m \u001b[49m\u001b[38;5;241;43m*\u001b[39;49m\u001b[38;5;28;43mmap\u001b[39;49m\u001b[43m(\u001b[49m\u001b[43msanitize_sequence\u001b[49m\u001b[43m,\u001b[49m\u001b[43m \u001b[49m\u001b[43margs\u001b[49m\u001b[43m)\u001b[49m\u001b[43m,\u001b[49m\u001b[43m \u001b[49m\u001b[38;5;241;43m*\u001b[39;49m\u001b[38;5;241;43m*\u001b[39;49m\u001b[43mkwargs\u001b[49m\u001b[43m)\u001b[49m\n\u001b[1;32m   1467\u001b[0m     bound \u001b[38;5;241m=\u001b[39m new_sig\u001b[38;5;241m.\u001b[39mbind(ax, \u001b[38;5;241m*\u001b[39margs, \u001b[38;5;241m*\u001b[39m\u001b[38;5;241m*\u001b[39mkwargs)\n\u001b[1;32m   1468\u001b[0m     auto_label \u001b[38;5;241m=\u001b[39m (bound\u001b[38;5;241m.\u001b[39marguments\u001b[38;5;241m.\u001b[39mget(label_namer)\n\u001b[1;32m   1469\u001b[0m                   \u001b[38;5;129;01mor\u001b[39;00m bound\u001b[38;5;241m.\u001b[39mkwargs\u001b[38;5;241m.\u001b[39mget(label_namer))\n",
            "File \u001b[0;32m~/.local/lib/python3.10/site-packages/matplotlib/axes/_axes.py:3222\u001b[0m, in \u001b[0;36mAxes.pie\u001b[0;34m(self, x, explode, labels, colors, autopct, pctdistance, shadow, labeldistance, startangle, radius, counterclock, wedgeprops, textprops, center, frame, rotatelabels, normalize, hatch)\u001b[0m\n\u001b[1;32m   3219\u001b[0m \u001b[38;5;28mself\u001b[39m\u001b[38;5;241m.\u001b[39mset_aspect(\u001b[38;5;124m'\u001b[39m\u001b[38;5;124mequal\u001b[39m\u001b[38;5;124m'\u001b[39m)\n\u001b[1;32m   3220\u001b[0m \u001b[38;5;66;03m# The use of float32 is \"historical\", but can't be changed without\u001b[39;00m\n\u001b[1;32m   3221\u001b[0m \u001b[38;5;66;03m# regenerating the test baselines.\u001b[39;00m\n\u001b[0;32m-> 3222\u001b[0m x \u001b[38;5;241m=\u001b[39m \u001b[43mnp\u001b[49m\u001b[38;5;241;43m.\u001b[39;49m\u001b[43masarray\u001b[49m\u001b[43m(\u001b[49m\u001b[43mx\u001b[49m\u001b[43m,\u001b[49m\u001b[43m \u001b[49m\u001b[43mnp\u001b[49m\u001b[38;5;241;43m.\u001b[39;49m\u001b[43mfloat32\u001b[49m\u001b[43m)\u001b[49m\n\u001b[1;32m   3223\u001b[0m \u001b[38;5;28;01mif\u001b[39;00m x\u001b[38;5;241m.\u001b[39mndim \u001b[38;5;241m>\u001b[39m \u001b[38;5;241m1\u001b[39m:\n\u001b[1;32m   3224\u001b[0m     \u001b[38;5;28;01mraise\u001b[39;00m \u001b[38;5;167;01mValueError\u001b[39;00m(\u001b[38;5;124m\"\u001b[39m\u001b[38;5;124mx must be 1D\u001b[39m\u001b[38;5;124m\"\u001b[39m)\n",
            "\u001b[0;31mValueError\u001b[0m: could not convert string to float: 'Data DevOps Engineer'"
          ]
        },
        {
          "data": {
            "image/png": "[encoded data removed]",
            "text/plain": [
              "<Figure size 640x480 with 1 Axes>"
            ]
          },
          "metadata": {},
          "output_type": "display_data"
        }
      ],
      "source": [
        "# pie chart with job title\n",
        "\n",
        "plt.pie(data.job_title.tolist())"
      ]
    },
    {
      "cell_type": "markdown",
      "metadata": {
        "id": "CkWSwhUQyNaj"
      },
      "source": [
        "The error above occurs since machines don't understand character (object data type). We then need to make sure there is a number representation of the data."
      ]
    },
    {
      "cell_type": "code",
      "execution_count": 15,
      "metadata": {
        "id": "pVd-ZVQvMY8O"
      },
      "outputs": [
        {
          "name": "stdout",
          "output_type": "stream",
          "text": [
            "['AI Architect', 'AI Developer', 'AI Engineer', 'AI Programmer', 'AI Research Engineer', 'AI Scientist', 'AWS Data Architect', 'Analytics Engineer', 'Analytics Engineering Manager', 'Applied Data Scientist', 'Applied Machine Learning Engineer', 'Applied Machine Learning Scientist', 'Applied Scientist', 'Autonomous Vehicle Technician', 'Azure Data Engineer', 'BI Analyst', 'BI Data Analyst', 'BI Data Engineer', 'BI Developer', 'Big Data Architect', 'Big Data Engineer', 'Business Data Analyst', 'Business Intelligence Analyst', 'Business Intelligence Data Analyst', 'Business Intelligence Developer', 'Business Intelligence Engineer', 'Business Intelligence Manager', 'Business Intelligence Specialist', 'Cloud Data Architect', 'Cloud Data Engineer', 'Cloud Database Engineer', 'Compliance Data Analyst', 'Computer Vision Engineer', 'Computer Vision Software Engineer', 'Consultant Data Engineer', 'Data Analyst', 'Data Analytics Consultant', 'Data Analytics Engineer', 'Data Analytics Lead', 'Data Analytics Manager', 'Data Analytics Specialist', 'Data Architect', 'Data DevOps Engineer', 'Data Developer', 'Data Engineer', 'Data Infrastructure Engineer', 'Data Integration Engineer', 'Data Integration Specialist', 'Data Lead', 'Data Management Analyst', 'Data Management Specialist', 'Data Manager', 'Data Modeler', 'Data Modeller', 'Data Operations Analyst', 'Data Operations Engineer', 'Data Operations Manager', 'Data Operations Specialist', 'Data Product Manager', 'Data Product Owner', 'Data Quality Analyst', 'Data Quality Engineer', 'Data Science Consultant', 'Data Science Director', 'Data Science Engineer', 'Data Science Lead', 'Data Science Manager', 'Data Science Practitioner', 'Data Science Tech Lead', 'Data Scientist', 'Data Scientist Lead', 'Data Specialist', 'Data Strategist', 'Data Strategy Manager', 'Data Visualization Analyst', 'Data Visualization Engineer', 'Data Visualization Specialist', 'Decision Scientist', 'Deep Learning Engineer', 'Deep Learning Researcher', 'Director of Data Science', 'ETL Developer', 'ETL Engineer', 'Finance Data Analyst', 'Financial Data Analyst', 'Head of Data', 'Head of Data Science', 'Head of Machine Learning', 'Insight Analyst', 'Lead Data Analyst', 'Lead Data Engineer', 'Lead Data Scientist', 'Lead Machine Learning Engineer', 'ML Engineer', 'MLOps Engineer', 'Machine Learning Developer', 'Machine Learning Engineer', 'Machine Learning Infrastructure Engineer', 'Machine Learning Manager', 'Machine Learning Modeler', 'Machine Learning Operations Engineer', 'Machine Learning Research Engineer', 'Machine Learning Researcher', 'Machine Learning Scientist', 'Machine Learning Software Engineer', 'Machine Learning Specialist', 'Manager Data Management', 'Managing Director Data Science', 'Marketing Data Analyst', 'Marketing Data Engineer', 'NLP Engineer', 'Power BI Developer', 'Principal Data Analyst', 'Principal Data Engineer', 'Principal Data Scientist', 'Principal Machine Learning Engineer', 'Product Data Analyst', 'Research Analyst', 'Research Engineer', 'Research Scientist', 'Sales Data Analyst', 'Software Data Engineer', 'Staff Data Analyst', 'Staff Data Scientist', 'Staff Machine Learning Engineer']\n"
          ]
        }
      ],
      "source": [
        "# solve the error\n",
        "jobtitlecounts = data.groupby('job_title')['job_category'].count()\n",
        "titles= jobtitlecounts.index.tolist()\n",
        "print(titles)\n",
        "\n"
      ]
    },
    {
      "cell_type": "code",
      "execution_count": null,
      "metadata": {
        "id": "OWdNTKUkSGpZ"
      },
      "outputs": [],
      "source": [
        "# data.columns\n",
        "# data.head()"
      ]
    },
    {
      "cell_type": "code",
      "execution_count": 16,
      "metadata": {
        "id": "TrX6wagyStpj"
      },
      "outputs": [],
      "source": [
        "# job title common\n",
        "jobtitle = jobtitlecounts.reset_index()\n",
        "jobtitle.rename(columns={'job_category':'counts'}, inplace=True)\n",
        "# get top titles\n",
        "jobtitle = jobtitle.sort_values('counts', ascending=False)"
      ]
    },
    {
      "cell_type": "code",
      "execution_count": 21,
      "metadata": {
        "colab": {
          "base_uri": "https://localhost:8080/",
          "height": 826
        },
        "id": "xsbNccgfNU6k",
        "outputId": "3f29e557-c63d-4e34-bb08-e847f32708f5"
      },
      "outputs": [
        {
          "data": {
            "text/html": [
              "<div>\n",
              "<style scoped>\n",
              "    .dataframe tbody tr th:only-of-type {\n",
              "        vertical-align: middle;\n",
              "    }\n",
              "\n",
              "    .dataframe tbody tr th {\n",
              "        vertical-align: top;\n",
              "    }\n",
              "\n",
              "    .dataframe thead th {\n",
              "        text-align: right;\n",
              "    }\n",
              "</style>\n",
              "<table border=\"1\" class=\"dataframe\">\n",
              "  <thead>\n",
              "    <tr style=\"text-align: right;\">\n",
              "      <th></th>\n",
              "      <th>job_title</th>\n",
              "      <th>counts</th>\n",
              "    </tr>\n",
              "  </thead>\n",
              "  <tbody>\n",
              "    <tr>\n",
              "      <th>44</th>\n",
              "      <td>Data Engineer</td>\n",
              "      <td>2195</td>\n",
              "    </tr>\n",
              "    <tr>\n",
              "      <th>69</th>\n",
              "      <td>Data Scientist</td>\n",
              "      <td>1989</td>\n",
              "    </tr>\n",
              "    <tr>\n",
              "      <th>35</th>\n",
              "      <td>Data Analyst</td>\n",
              "      <td>1388</td>\n",
              "    </tr>\n",
              "    <tr>\n",
              "      <th>96</th>\n",
              "      <td>Machine Learning Engineer</td>\n",
              "      <td>991</td>\n",
              "    </tr>\n",
              "    <tr>\n",
              "      <th>12</th>\n",
              "      <td>Applied Scientist</td>\n",
              "      <td>272</td>\n",
              "    </tr>\n",
              "    <tr>\n",
              "      <th>119</th>\n",
              "      <td>Research Scientist</td>\n",
              "      <td>269</td>\n",
              "    </tr>\n",
              "    <tr>\n",
              "      <th>7</th>\n",
              "      <td>Analytics Engineer</td>\n",
              "      <td>256</td>\n",
              "    </tr>\n",
              "    <tr>\n",
              "      <th>41</th>\n",
              "      <td>Data Architect</td>\n",
              "      <td>213</td>\n",
              "    </tr>\n",
              "    <tr>\n",
              "      <th>118</th>\n",
              "      <td>Research Engineer</td>\n",
              "      <td>144</td>\n",
              "    </tr>\n",
              "    <tr>\n",
              "      <th>25</th>\n",
              "      <td>Business Intelligence Engineer</td>\n",
              "      <td>144</td>\n",
              "    </tr>\n",
              "  </tbody>\n",
              "</table>\n",
              "</div>"
            ],
            "text/plain": [
              "                          job_title  counts\n",
              "44                    Data Engineer    2195\n",
              "69                   Data Scientist    1989\n",
              "35                     Data Analyst    1388\n",
              "96        Machine Learning Engineer     991\n",
              "12                Applied Scientist     272\n",
              "119              Research Scientist     269\n",
              "7                Analytics Engineer     256\n",
              "41                   Data Architect     213\n",
              "118               Research Engineer     144\n",
              "25   Business Intelligence Engineer     144"
            ]
          },
          "execution_count": 21,
          "metadata": {},
          "output_type": "execute_result"
        }
      ],
      "source": [
        "# take top 5 job titles\n",
        "subset = jobtitle.head(10)\n",
        "subset"
      ]
    },
    {
      "cell_type": "code",
      "execution_count": 22,
      "metadata": {
        "colab": {
          "base_uri": "https://localhost:8080/",
          "height": 428
        },
        "id": "JViZk6qiN9V8",
        "outputId": "f45a9801-4214-4e4b-c9b8-7daf6db2f481"
      },
      "outputs": [
        {
          "data": {
            "image/png": "[encoded data removed]",
            "text/plain": [
              "<Figure size 640x480 with 1 Axes>"
            ]
          },
          "metadata": {},
          "output_type": "display_data"
        }
      ],
      "source": [
        "# using the counts plot the pie chart\n",
        "plt.pie(subset.counts, labels=subset.job_title.tolist(),autopct='%.0f%%')\n",
        "plt.title('PROPORTION OF JOB TITLES')\n",
        "plt.show()"
      ]
    },
    {
      "cell_type": "code",
      "execution_count": 26,
      "metadata": {
        "colab": {
          "base_uri": "https://localhost:8080/",
          "height": 144
        },
        "id": "JHXqU5-zOVXT",
        "outputId": "47f2bcb3-8026-4748-a6ca-438bd4e4cea1"
      },
      "outputs": [
        {
          "data": {
            "text/html": [
              "<div>\n",
              "<style scoped>\n",
              "    .dataframe tbody tr th:only-of-type {\n",
              "        vertical-align: middle;\n",
              "    }\n",
              "\n",
              "    .dataframe tbody tr th {\n",
              "        vertical-align: top;\n",
              "    }\n",
              "\n",
              "    .dataframe thead th {\n",
              "        text-align: right;\n",
              "    }\n",
              "</style>\n",
              "<table border=\"1\" class=\"dataframe\">\n",
              "  <thead>\n",
              "    <tr style=\"text-align: right;\">\n",
              "      <th></th>\n",
              "      <th>experience_level</th>\n",
              "      <th>salary</th>\n",
              "    </tr>\n",
              "  </thead>\n",
              "  <tbody>\n",
              "    <tr>\n",
              "      <th>9346</th>\n",
              "      <td>Senior</td>\n",
              "      <td>168000</td>\n",
              "    </tr>\n",
              "    <tr>\n",
              "      <th>9350</th>\n",
              "      <td>Senior</td>\n",
              "      <td>165000</td>\n",
              "    </tr>\n",
              "    <tr>\n",
              "      <th>9351</th>\n",
              "      <td>Senior</td>\n",
              "      <td>412000</td>\n",
              "    </tr>\n",
              "  </tbody>\n",
              "</table>\n",
              "</div>"
            ],
            "text/plain": [
              "     experience_level  salary\n",
              "9346           Senior  168000\n",
              "9350           Senior  165000\n",
              "9351           Senior  412000"
            ]
          },
          "execution_count": 26,
          "metadata": {},
          "output_type": "execute_result"
        }
      ],
      "source": [
        "'''\n",
        "Analyse salary by experience level.\n",
        "Calculate the total, min, max and average salaries for each experience level\n",
        "(Entry-level, Mid-level, Senior, etc.) and visualise the differences.\n",
        "'''\n",
        "\n",
        "# Get salary experience levels\n",
        "### get columns\n",
        "data.columns\n",
        "### get unique values in experience level\n",
        "data['experience_level'].unique()\n",
        "### filtering method\n",
        "senior_level = data.loc[data['experience_level'] == 'Senior',['experience_level',\n",
        "                                                          'salary']]\n",
        "senior_level.tail(3)"
      ]
    },
    {
      "cell_type": "code",
      "execution_count": null,
      "metadata": {
        "colab": {
          "base_uri": "https://localhost:8080/"
        },
        "id": "gjZ3WBhTUqtz",
        "outputId": "8bf6bb01-8144-41d8-d641-b8e4d5daf49d"
      },
      "outputs": [
        {
          "name": "stdout",
          "output_type": "stream",
          "text": [
            "total salary senior level == 1088606906\n",
            "minimum salary senior level == 24000\n",
            "maximum salary senior level == 412000\n",
            "average salary senior level == 162260.68057832762\n"
          ]
        }
      ],
      "source": [
        "# total, min, max and average salaries\n",
        "# total = use sum(data), data.sum()\n",
        "# if imported numpy as np\n",
        "total = senior_level.salary.sum() #np.sum()\n",
        "print('total salary senior level ==',total)\n",
        "minimum = senior_level.salary.min() #np.min\n",
        "print('minimum salary senior level ==',minimum)\n",
        "maximum = senior_level.salary.max() #np.max\n",
        "print('maximum salary senior level ==',maximum)\n",
        "average = senior_level.salary.mean() #np.mean\n",
        "print('average salary senior level ==',average)"
      ]
    },
    {
      "cell_type": "code",
      "execution_count": 27,
      "metadata": {
        "colab": {
          "base_uri": "https://localhost:8080/"
        },
        "id": "ABu4nqwNUqd4",
        "outputId": "8449e3fc-dcec-42f4-a425-2c4da6b822cd"
      },
      "outputs": [
        {
          "name": "stdout",
          "output_type": "stream",
          "text": [
            "total salary senior level == 1088606906\n",
            "minimum salary senior level == 24000\n",
            "maximum salary senior level == 412000\n",
            "average salary senior level == 162260.68057832762\n"
          ]
        }
      ],
      "source": [
        "# using numpy\n",
        "total = np.sum(senior_level.salary.values) #np.sum()\n",
        "print('total salary senior level ==',total)\n",
        "minimum = np.min(senior_level.salary.values) #np.min\n",
        "print('minimum salary senior level ==',minimum)\n",
        "maximum = np.max(senior_level.salary.values) #np.max\n",
        "print('maximum salary senior level ==',maximum)\n",
        "average = np.mean(senior_level.salary.values) #np.mean\n",
        "print('average salary senior level ==',average)"
      ]
    },
    {
      "cell_type": "code",
      "execution_count": 28,
      "metadata": {
        "colab": {
          "base_uri": "https://localhost:8080/"
        },
        "id": "Ub6RUJpuUqQs",
        "outputId": "f108e29a-eeb9-4731-b498-a565e3b904af"
      },
      "outputs": [
        {
          "data": {
            "text/plain": [
              "Index(['work_year', 'job_title', 'job_category', 'salary_currency', 'salary',\n",
              "       'salary_in_usd', 'employee_residence', 'experience_level',\n",
              "       'employment_type', 'work_setting', 'company_location', 'company_size'],\n",
              "      dtype='object')"
            ]
          },
          "execution_count": 28,
          "metadata": {},
          "output_type": "execute_result"
        }
      ],
      "source": [
        "data.columns"
      ]
    },
    {
      "cell_type": "code",
      "execution_count": 32,
      "metadata": {
        "colab": {
          "base_uri": "https://localhost:8080/",
          "height": 206
        },
        "id": "HHSK7NUbQGOE",
        "outputId": "e694c9e9-03a7-44b6-a934-537712109311"
      },
      "outputs": [
        {
          "data": {
            "text/html": [
              "<div>\n",
              "<style scoped>\n",
              "    .dataframe tbody tr th:only-of-type {\n",
              "        vertical-align: middle;\n",
              "    }\n",
              "\n",
              "    .dataframe tbody tr th {\n",
              "        vertical-align: top;\n",
              "    }\n",
              "\n",
              "    .dataframe thead th {\n",
              "        text-align: right;\n",
              "    }\n",
              "</style>\n",
              "<table border=\"1\" class=\"dataframe\">\n",
              "  <thead>\n",
              "    <tr style=\"text-align: right;\">\n",
              "      <th></th>\n",
              "      <th>work_year</th>\n",
              "      <th>job_title</th>\n",
              "      <th>job_category</th>\n",
              "      <th>salary_currency</th>\n",
              "      <th>salary</th>\n",
              "      <th>salary_in_usd</th>\n",
              "      <th>employee_residence</th>\n",
              "      <th>experience_level</th>\n",
              "      <th>employment_type</th>\n",
              "      <th>work_setting</th>\n",
              "      <th>company_location</th>\n",
              "      <th>company_size</th>\n",
              "    </tr>\n",
              "  </thead>\n",
              "  <tbody>\n",
              "    <tr>\n",
              "      <th>13</th>\n",
              "      <td>2023</td>\n",
              "      <td>Data Scientist</td>\n",
              "      <td>Data Science and Research</td>\n",
              "      <td>GBP</td>\n",
              "      <td>35000</td>\n",
              "      <td>43064</td>\n",
              "      <td>United Kingdom</td>\n",
              "      <td>Mid-level</td>\n",
              "      <td>Full-time</td>\n",
              "      <td>In-person</td>\n",
              "      <td>United Kingdom</td>\n",
              "      <td>M</td>\n",
              "    </tr>\n",
              "    <tr>\n",
              "      <th>14</th>\n",
              "      <td>2023</td>\n",
              "      <td>Data Scientist</td>\n",
              "      <td>Data Science and Research</td>\n",
              "      <td>GBP</td>\n",
              "      <td>30000</td>\n",
              "      <td>36912</td>\n",
              "      <td>United Kingdom</td>\n",
              "      <td>Mid-level</td>\n",
              "      <td>Full-time</td>\n",
              "      <td>In-person</td>\n",
              "      <td>United Kingdom</td>\n",
              "      <td>M</td>\n",
              "    </tr>\n",
              "    <tr>\n",
              "      <th>67</th>\n",
              "      <td>2023</td>\n",
              "      <td>Data Engineer</td>\n",
              "      <td>Data Engineering</td>\n",
              "      <td>GBP</td>\n",
              "      <td>58000</td>\n",
              "      <td>71363</td>\n",
              "      <td>United Kingdom</td>\n",
              "      <td>Senior</td>\n",
              "      <td>Full-time</td>\n",
              "      <td>In-person</td>\n",
              "      <td>United Kingdom</td>\n",
              "      <td>M</td>\n",
              "    </tr>\n",
              "    <tr>\n",
              "      <th>68</th>\n",
              "      <td>2023</td>\n",
              "      <td>Data Engineer</td>\n",
              "      <td>Data Engineering</td>\n",
              "      <td>GBP</td>\n",
              "      <td>45000</td>\n",
              "      <td>55368</td>\n",
              "      <td>United Kingdom</td>\n",
              "      <td>Senior</td>\n",
              "      <td>Full-time</td>\n",
              "      <td>In-person</td>\n",
              "      <td>United Kingdom</td>\n",
              "      <td>M</td>\n",
              "    </tr>\n",
              "    <tr>\n",
              "      <th>123</th>\n",
              "      <td>2023</td>\n",
              "      <td>Data Quality Analyst</td>\n",
              "      <td>Data Quality and Operations</td>\n",
              "      <td>GBP</td>\n",
              "      <td>40000</td>\n",
              "      <td>49216</td>\n",
              "      <td>United Kingdom</td>\n",
              "      <td>Entry-level</td>\n",
              "      <td>Full-time</td>\n",
              "      <td>Remote</td>\n",
              "      <td>United Kingdom</td>\n",
              "      <td>M</td>\n",
              "    </tr>\n",
              "  </tbody>\n",
              "</table>\n",
              "</div>"
            ],
            "text/plain": [
              "     work_year             job_title                 job_category  \\\n",
              "13        2023        Data Scientist    Data Science and Research   \n",
              "14        2023        Data Scientist    Data Science and Research   \n",
              "67        2023         Data Engineer             Data Engineering   \n",
              "68        2023         Data Engineer             Data Engineering   \n",
              "123       2023  Data Quality Analyst  Data Quality and Operations   \n",
              "\n",
              "    salary_currency  salary  salary_in_usd employee_residence  \\\n",
              "13              GBP   35000          43064     United Kingdom   \n",
              "14              GBP   30000          36912     United Kingdom   \n",
              "67              GBP   58000          71363     United Kingdom   \n",
              "68              GBP   45000          55368     United Kingdom   \n",
              "123             GBP   40000          49216     United Kingdom   \n",
              "\n",
              "    experience_level employment_type work_setting company_location  \\\n",
              "13         Mid-level       Full-time    In-person   United Kingdom   \n",
              "14         Mid-level       Full-time    In-person   United Kingdom   \n",
              "67            Senior       Full-time    In-person   United Kingdom   \n",
              "68            Senior       Full-time    In-person   United Kingdom   \n",
              "123      Entry-level       Full-time       Remote   United Kingdom   \n",
              "\n",
              "    company_size  \n",
              "13             M  \n",
              "14             M  \n",
              "67             M  \n",
              "68             M  \n",
              "123            M  "
            ]
          },
          "execution_count": 32,
          "metadata": {},
          "output_type": "execute_result"
        }
      ],
      "source": [
        "'''\n",
        "Only focusing on the United Kingdom, Compare salaries for full-time,\n",
        "part-time, and contract employees and identify any trends.\n",
        "\n",
        "'''\n",
        "#unique locations\n",
        "# print('locations:',data.company_location.unique())\n",
        "# filter United kingdom\n",
        "uk = data[data['company_location'] == 'United Kingdom']\n",
        "uk.head()"
      ]
    },
    {
      "cell_type": "code",
      "execution_count": 34,
      "metadata": {},
      "outputs": [
        {
          "data": {
            "text/html": [
              "<div>\n",
              "<style scoped>\n",
              "    .dataframe tbody tr th:only-of-type {\n",
              "        vertical-align: middle;\n",
              "    }\n",
              "\n",
              "    .dataframe tbody tr th {\n",
              "        vertical-align: top;\n",
              "    }\n",
              "\n",
              "    .dataframe thead th {\n",
              "        text-align: right;\n",
              "    }\n",
              "</style>\n",
              "<table border=\"1\" class=\"dataframe\">\n",
              "  <thead>\n",
              "    <tr style=\"text-align: right;\">\n",
              "      <th></th>\n",
              "      <th>work_year</th>\n",
              "      <th>job_title</th>\n",
              "      <th>job_category</th>\n",
              "      <th>salary_currency</th>\n",
              "      <th>salary</th>\n",
              "      <th>salary_in_usd</th>\n",
              "      <th>employee_residence</th>\n",
              "      <th>experience_level</th>\n",
              "      <th>employment_type</th>\n",
              "      <th>work_setting</th>\n",
              "      <th>company_location</th>\n",
              "      <th>company_size</th>\n",
              "    </tr>\n",
              "  </thead>\n",
              "  <tbody>\n",
              "    <tr>\n",
              "      <th>9350</th>\n",
              "      <td>2021</td>\n",
              "      <td>Data Specialist</td>\n",
              "      <td>Data Management and Strategy</td>\n",
              "      <td>USD</td>\n",
              "      <td>165000</td>\n",
              "      <td>165000</td>\n",
              "      <td>United States</td>\n",
              "      <td>Senior</td>\n",
              "      <td>Full-time</td>\n",
              "      <td>Remote</td>\n",
              "      <td>United States</td>\n",
              "      <td>L</td>\n",
              "    </tr>\n",
              "    <tr>\n",
              "      <th>9351</th>\n",
              "      <td>2020</td>\n",
              "      <td>Data Scientist</td>\n",
              "      <td>Data Science and Research</td>\n",
              "      <td>USD</td>\n",
              "      <td>412000</td>\n",
              "      <td>412000</td>\n",
              "      <td>United States</td>\n",
              "      <td>Senior</td>\n",
              "      <td>Full-time</td>\n",
              "      <td>Remote</td>\n",
              "      <td>United States</td>\n",
              "      <td>L</td>\n",
              "    </tr>\n",
              "    <tr>\n",
              "      <th>9352</th>\n",
              "      <td>2021</td>\n",
              "      <td>Principal Data Scientist</td>\n",
              "      <td>Data Science and Research</td>\n",
              "      <td>USD</td>\n",
              "      <td>151000</td>\n",
              "      <td>151000</td>\n",
              "      <td>United States</td>\n",
              "      <td>Mid-level</td>\n",
              "      <td>Full-time</td>\n",
              "      <td>Remote</td>\n",
              "      <td>United States</td>\n",
              "      <td>L</td>\n",
              "    </tr>\n",
              "    <tr>\n",
              "      <th>9353</th>\n",
              "      <td>2020</td>\n",
              "      <td>Data Scientist</td>\n",
              "      <td>Data Science and Research</td>\n",
              "      <td>USD</td>\n",
              "      <td>105000</td>\n",
              "      <td>105000</td>\n",
              "      <td>United States</td>\n",
              "      <td>Entry-level</td>\n",
              "      <td>Full-time</td>\n",
              "      <td>Remote</td>\n",
              "      <td>United States</td>\n",
              "      <td>S</td>\n",
              "    </tr>\n",
              "    <tr>\n",
              "      <th>9354</th>\n",
              "      <td>2020</td>\n",
              "      <td>Business Data Analyst</td>\n",
              "      <td>Data Analysis</td>\n",
              "      <td>USD</td>\n",
              "      <td>100000</td>\n",
              "      <td>100000</td>\n",
              "      <td>United States</td>\n",
              "      <td>Entry-level</td>\n",
              "      <td>Contract</td>\n",
              "      <td>Remote</td>\n",
              "      <td>United States</td>\n",
              "      <td>L</td>\n",
              "    </tr>\n",
              "  </tbody>\n",
              "</table>\n",
              "</div>"
            ],
            "text/plain": [
              "      work_year                 job_title                  job_category  \\\n",
              "9350       2021           Data Specialist  Data Management and Strategy   \n",
              "9351       2020            Data Scientist     Data Science and Research   \n",
              "9352       2021  Principal Data Scientist     Data Science and Research   \n",
              "9353       2020            Data Scientist     Data Science and Research   \n",
              "9354       2020     Business Data Analyst                 Data Analysis   \n",
              "\n",
              "     salary_currency  salary  salary_in_usd employee_residence  \\\n",
              "9350             USD  165000         165000      United States   \n",
              "9351             USD  412000         412000      United States   \n",
              "9352             USD  151000         151000      United States   \n",
              "9353             USD  105000         105000      United States   \n",
              "9354             USD  100000         100000      United States   \n",
              "\n",
              "     experience_level employment_type work_setting company_location  \\\n",
              "9350           Senior       Full-time       Remote    United States   \n",
              "9351           Senior       Full-time       Remote    United States   \n",
              "9352        Mid-level       Full-time       Remote    United States   \n",
              "9353      Entry-level       Full-time       Remote    United States   \n",
              "9354      Entry-level        Contract       Remote    United States   \n",
              "\n",
              "     company_size  \n",
              "9350            L  \n",
              "9351            L  \n",
              "9352            L  \n",
              "9353            S  \n",
              "9354            L  "
            ]
          },
          "execution_count": 34,
          "metadata": {},
          "output_type": "execute_result"
        }
      ],
      "source": [
        "# filter United States\n",
        "us = data[data['company_location'] == 'United States']\n",
        "us.tail()"
      ]
    },
    {
      "cell_type": "code",
      "execution_count": 35,
      "metadata": {
        "colab": {
          "base_uri": "https://localhost:8080/"
        },
        "id": "MTP_FGlVXCRX",
        "outputId": "3f24204a-ad02-4480-9b7b-9548e722766b"
      },
      "outputs": [
        {
          "data": {
            "text/plain": [
              "array([2023, 2022, 2020, 2021])"
            ]
          },
          "execution_count": 35,
          "metadata": {},
          "output_type": "execute_result"
        }
      ],
      "source": [
        "# to get trends, consider - dates,days,months,years\n",
        "# number of years\n",
        "data['work_year'].unique()"
      ]
    },
    {
      "cell_type": "code",
      "execution_count": 36,
      "metadata": {
        "colab": {
          "base_uri": "https://localhost:8080/",
          "height": 206
        },
        "id": "kLVu8cxyXkyY",
        "outputId": "4911c43b-088a-43ed-fbf4-ce9a53e51be0"
      },
      "outputs": [
        {
          "data": {
            "text/html": [
              "<div>\n",
              "<style scoped>\n",
              "    .dataframe tbody tr th:only-of-type {\n",
              "        vertical-align: middle;\n",
              "    }\n",
              "\n",
              "    .dataframe tbody tr th {\n",
              "        vertical-align: top;\n",
              "    }\n",
              "\n",
              "    .dataframe thead th {\n",
              "        text-align: right;\n",
              "    }\n",
              "</style>\n",
              "<table border=\"1\" class=\"dataframe\">\n",
              "  <thead>\n",
              "    <tr style=\"text-align: right;\">\n",
              "      <th></th>\n",
              "      <th>work_year</th>\n",
              "      <th>employment_type</th>\n",
              "      <th>salary</th>\n",
              "    </tr>\n",
              "  </thead>\n",
              "  <tbody>\n",
              "    <tr>\n",
              "      <th>13</th>\n",
              "      <td>2023</td>\n",
              "      <td>Full-time</td>\n",
              "      <td>35000</td>\n",
              "    </tr>\n",
              "    <tr>\n",
              "      <th>14</th>\n",
              "      <td>2023</td>\n",
              "      <td>Full-time</td>\n",
              "      <td>30000</td>\n",
              "    </tr>\n",
              "    <tr>\n",
              "      <th>67</th>\n",
              "      <td>2023</td>\n",
              "      <td>Full-time</td>\n",
              "      <td>58000</td>\n",
              "    </tr>\n",
              "    <tr>\n",
              "      <th>68</th>\n",
              "      <td>2023</td>\n",
              "      <td>Full-time</td>\n",
              "      <td>45000</td>\n",
              "    </tr>\n",
              "    <tr>\n",
              "      <th>123</th>\n",
              "      <td>2023</td>\n",
              "      <td>Full-time</td>\n",
              "      <td>40000</td>\n",
              "    </tr>\n",
              "  </tbody>\n",
              "</table>\n",
              "</div>"
            ],
            "text/plain": [
              "     work_year employment_type  salary\n",
              "13        2023       Full-time   35000\n",
              "14        2023       Full-time   30000\n",
              "67        2023       Full-time   58000\n",
              "68        2023       Full-time   45000\n",
              "123       2023       Full-time   40000"
            ]
          },
          "execution_count": 36,
          "metadata": {},
          "output_type": "execute_result"
        }
      ],
      "source": [
        "# data needed\n",
        "subset = uk[['work_year','employment_type','salary']]\n",
        "subset.head()"
      ]
    },
    {
      "cell_type": "code",
      "execution_count": 37,
      "metadata": {
        "colab": {
          "base_uri": "https://localhost:8080/"
        },
        "id": "DnYSrtanYWUT",
        "outputId": "a7d05472-dccc-40e2-ac0d-cf34e4d9b9ea"
      },
      "outputs": [
        {
          "data": {
            "text/plain": [
              "(array(['Full-time'], dtype=object), array([2023, 2022, 2021, 2020]))"
            ]
          },
          "execution_count": 37,
          "metadata": {},
          "output_type": "execute_result"
        }
      ],
      "source": [
        "#uk employment types and year\n",
        "subset.employment_type.unique(), subset.work_year.unique()"
      ]
    },
    {
      "cell_type": "code",
      "execution_count": 38,
      "metadata": {
        "colab": {
          "base_uri": "https://localhost:8080/",
          "height": 175
        },
        "id": "9F95NpB3X8Zx",
        "outputId": "00e44deb-c02d-4cd3-e2dc-fb82dfc29b57"
      },
      "outputs": [
        {
          "data": {
            "text/html": [
              "<div>\n",
              "<style scoped>\n",
              "    .dataframe tbody tr th:only-of-type {\n",
              "        vertical-align: middle;\n",
              "    }\n",
              "\n",
              "    .dataframe tbody tr th {\n",
              "        vertical-align: top;\n",
              "    }\n",
              "\n",
              "    .dataframe thead th {\n",
              "        text-align: right;\n",
              "    }\n",
              "</style>\n",
              "<table border=\"1\" class=\"dataframe\">\n",
              "  <thead>\n",
              "    <tr style=\"text-align: right;\">\n",
              "      <th></th>\n",
              "      <th>work_year</th>\n",
              "      <th>salary</th>\n",
              "    </tr>\n",
              "  </thead>\n",
              "  <tbody>\n",
              "    <tr>\n",
              "      <th>0</th>\n",
              "      <td>2020</td>\n",
              "      <td>333000</td>\n",
              "    </tr>\n",
              "    <tr>\n",
              "      <th>1</th>\n",
              "      <td>2021</td>\n",
              "      <td>884356</td>\n",
              "    </tr>\n",
              "    <tr>\n",
              "      <th>2</th>\n",
              "      <td>2022</td>\n",
              "      <td>6214060</td>\n",
              "    </tr>\n",
              "    <tr>\n",
              "      <th>3</th>\n",
              "      <td>2023</td>\n",
              "      <td>33644619</td>\n",
              "    </tr>\n",
              "  </tbody>\n",
              "</table>\n",
              "</div>"
            ],
            "text/plain": [
              "   work_year    salary\n",
              "0       2020    333000\n",
              "1       2021    884356\n",
              "2       2022   6214060\n",
              "3       2023  33644619"
            ]
          },
          "execution_count": 38,
          "metadata": {},
          "output_type": "execute_result"
        }
      ],
      "source": [
        "# find the trends\n",
        "## use line charts to show trends\n",
        "years = [2023, 2022, 2020, 2021]\n",
        "\n",
        "# plot the trend\n",
        "### counts per year\n",
        "uk = uk[uk['employment_type'] == 'Full-time']\n",
        "trend = subset.groupby('work_year')['salary'].sum()\n",
        "trend = trend.reset_index()\n",
        "trend"
      ]
    },
    {
      "cell_type": "code",
      "execution_count": 39,
      "metadata": {
        "colab": {
          "base_uri": "https://localhost:8080/",
          "height": 472
        },
        "id": "adiBlceGaSc4",
        "outputId": "1a1ca3df-f16f-49ac-a500-916096743b17"
      },
      "outputs": [
        {
          "data": {
            "image/png": "[encoded data removed]",
            "text/plain": [
              "<Figure size 640x480 with 1 Axes>"
            ]
          },
          "metadata": {},
          "output_type": "display_data"
        }
      ],
      "source": [
        "plt.plot(trend.work_year,trend.salary)\n",
        "plt.title('UK AGGREGATED TREND SALARY')\n",
        "plt.xlabel('YEAR')\n",
        "plt.ylabel('AGGREGATED-SALARY')\n",
        "plt.show()"
      ]
    },
    {
      "cell_type": "code",
      "execution_count": null,
      "metadata": {
        "colab": {
          "base_uri": "https://localhost:8080/",
          "height": 472
        },
        "id": "I-VZKfpGY_Np",
        "outputId": "daf8d1f1-d535-4b6a-b93c-9c676060464e"
      },
      "outputs": [
        {
          "data": {
            "image/png": "[encoded data removed]",
            "text/plain": [
              "<Figure size 640x480 with 1 Axes>"
            ]
          },
          "metadata": {},
          "output_type": "display_data"
        }
      ],
      "source": [
        "# deeper analysis\n",
        "newsubset = uk[['work_year','job_title','salary','employment_type']]\n",
        "titles = newsubset.job_title.unique()[:5]\n",
        "\n",
        "subset1 = newsubset[newsubset['job_title'] == 'Data Scientist']\n",
        "\n",
        "# consider mean for trend\n",
        "sub_mean = subset1.groupby(['work_year','job_title'])['salary'].mean()\n",
        "sub_mean = sub_mean.reset_index()\n",
        "\n",
        "#plot\n",
        "plt.plot(sub_mean.work_year,sub_mean.salary)\n",
        "plt.title('UK MEAN TREND SALARY DATA SCIENTIST')\n",
        "plt.xlabel('YEAR')\n",
        "plt.ylabel('MEAN SALARY')\n",
        "plt.show()"
      ]
    },
    {
      "cell_type": "code",
      "execution_count": null,
      "metadata": {
        "colab": {
          "base_uri": "https://localhost:8080/",
          "height": 472
        },
        "id": "EbzeC8Q-ZK_c",
        "outputId": "9b0d7838-8d21-47b3-f9cc-6748b9ea1861"
      },
      "outputs": [
        {
          "data": {
            "image/png": "[encoded data removed]",
            "text/plain": [
              "<Figure size 640x480 with 1 Axes>"
            ]
          },
          "metadata": {},
          "output_type": "display_data"
        }
      ],
      "source": [
        "# analyse the minimum trends\n",
        "# deeper analysis\n",
        "newsubset = uk[['work_year','job_title','salary','employment_type']]\n",
        "titles = newsubset.job_title.unique()[:5]\n",
        "\n",
        "subset1 = newsubset[newsubset['job_title'] == 'Data Scientist']\n",
        "\n",
        "# consider mean for trend\n",
        "sub_minimum = subset1.groupby(['work_year','job_title'])['salary'].min()\n",
        "sub_minimum = sub_minimum.reset_index()\n",
        "\n",
        "#plot\n",
        "plt.plot(sub_minimum.work_year,sub_minimum.salary)\n",
        "plt.title('UK MINIMUM TREND SALARY DATA SCIENTIST')\n",
        "plt.xlabel('YEAR')\n",
        "plt.ylabel('MINIMUM SALARY')\n",
        "plt.show()"
      ]
    },
    {
      "cell_type": "code",
      "execution_count": 42,
      "metadata": {
        "colab": {
          "base_uri": "https://localhost:8080/",
          "height": 872
        },
        "id": "U8PuE97MZnIX",
        "outputId": "fed8a9a6-023d-4e8f-db49-1589e92a0b60"
      },
      "outputs": [
        {
          "data": {
            "image/png": "[encoded data removed]",
            "text/plain": [
              "<Figure size 1200x1000 with 1 Axes>"
            ]
          },
          "metadata": {},
          "output_type": "display_data"
        }
      ],
      "source": [
        "# compare trend on other job titles\n",
        "# analyse the minimum trends\n",
        "# deeper analysis\n",
        "newsubset = uk[['work_year','job_title','salary','employment_type']]\n",
        "titles = newsubset.job_title.unique()[:2]\n",
        "plt.figure(figsize = (12,10))\n",
        "for jobtitle in titles:\n",
        "  subset1 = newsubset[newsubset['job_title'] == jobtitle]\n",
        "\n",
        "  # consider mean for trend\n",
        "  sub_minimum = subset1.groupby(['work_year','job_title'])['salary'].min()\n",
        "  sub_minimum = sub_minimum.reset_index()\n",
        "\n",
        "  #plot\n",
        "  plt.plot(sub_minimum.work_year,sub_minimum.salary)\n",
        "\n",
        "plt.legend(titles)\n",
        "plt.title('UK MINIMUM TREND SALARY FOR JOB TITLES')\n",
        "plt.xlabel('YEAR')\n",
        "plt.ylabel('MINIMUM SALARY')\n",
        "plt.show()"
      ]
    },
    {
      "cell_type": "code",
      "execution_count": null,
      "metadata": {
        "id": "rCEfMpPYxvhC"
      },
      "outputs": [],
      "source": []
    }
  ],
  "metadata": {
    "colab": {
      "provenance": []
    },
    "kernelspec": {
      "display_name": "Python 3",
      "name": "python3"
    },
    "language_info": {
      "codemirror_mode": {
        "name": "ipython",
        "version": 3
      },
      "file_extension": ".py",
      "mimetype": "text/x-python",
      "name": "python",
      "nbconvert_exporter": "python",
      "pygments_lexer": "ipython3",
      "version": "3.10.12"
    }
  },
  "nbformat": 4,
  "nbformat_minor": 0
}
